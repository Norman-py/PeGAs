{
 "cells": [
  {
   "cell_type": "markdown",
   "metadata": {},
   "source": [
    "<center>\n",
    "    <img src=\"https://s3-api.us-geo.objectstorage.softlayer.net/cf-courses-data/CognitiveClass/Logos/organization_logo/organization_logo.png\" width=\"300\" alt=\"cognitiveclass.ai logo\"  />\n",
    "</center>\n"
   ]
  },
  {
   "cell_type": "markdown",
   "metadata": {},
   "source": [
    "#### Add your code below following the instructions given in the course\n"
   ]
  },
  {
   "cell_type": "markdown",
   "metadata": {},
   "source": [
    "# My Jupyter Notebook on IBM Watson Studio"
   ]
  },
  {
   "cell_type": "markdown",
   "metadata": {},
   "source": [
    "Norman Lützner\n",
    "Supply Chain"
   ]
  },
  {
   "cell_type": "markdown",
   "metadata": {},
   "source": [
    "*I am interested in data science because quantity of data increases more and more and Excel raised the white flag already. Working and predicting data opens new horizons for me to improve quality and speed.*"
   ]
  },
  {
   "cell_type": "markdown",
   "metadata": {},
   "source": [
    "### Calculates x1 and x2 from an quadratic function equation in normalform. The result will be plotted."
   ]
  },
  {
   "cell_type": "code",
   "execution_count": 32,
   "metadata": {
    "tags": []
   },
   "outputs": [
    {
     "name": "stdout",
     "output_type": "stream",
     "text": [
      "x1: 3.0 x2: 1.0 y: 3.0\n"
     ]
    }
   ],
   "source": [
    "def Quad_form(x):\n",
    "    return a*x**2+b*x+c\n",
    "\n",
    "a=2\n",
    "b=-8\n",
    "c=6\n",
    "x=0\n",
    "\n",
    "x=x/a\n",
    "b=b/a\n",
    "c=c/a\n",
    "\n",
    "if pow(b,2)/4-c<0: \n",
    "    print(\"c or b variable wrong\")\n",
    "\n",
    "import math\n",
    "\n",
    "def x1(x,b,c):\n",
    "    return -b/2 + math.sqrt(pow(b,2)/4-c)\n",
    "def x2(x,b,c):\n",
    "    return -b/2 - math.sqrt(pow(b,2)/4-c)\n",
    "\n",
    "print(\"x1:\",x1(x,b,c),\"x2:\",x2(x,b,c),\"y:\",Quad_form(x))\n"
   ]
  },
  {
   "cell_type": "code",
   "execution_count": 30,
   "metadata": {},
   "outputs": [
    {
     "data": {
      "image/png": "[encoded data removed]",
      "text/plain": [
       "<Figure size 640x480 with 1 Axes>"
      ]
     },
     "metadata": {},
     "output_type": "display_data"
    }
   ],
   "source": [
    "import matplotlib.pyplot as plt\n",
    "plt.plot([-4,-3,-2,-1,0,1, 2, 3, 4],[Quad_form(-4),Quad_form(-3),Quad_form(-2),Quad_form(-1),Quad_form(0),Quad_form(1),Quad_form(2),Quad_form(3),Quad_form(4)])\n",
    "plt.show()"
   ]
  },
  {
   "cell_type": "markdown",
   "metadata": {},
   "source": [
    "|Action|command|example|\n",
    "|--------------|-------------|-------------|\n",
    "|import library|import|import matplotlib.pyplot as plt|\n",
    "|calculate with exponents|pow(base,exponent)|pow(1,2)|\n"
   ]
  },
  {
   "cell_type": "markdown",
   "metadata": {},
   "source": [
    "<dl>\n",
    "  <dt>Definition list</dt>\n",
    "  <dd>Is something people use sometimes.</dd>\n",
    "\n",
    "  <dt>Markdown in HTML</dt>\n",
    "  <dd>Does *not* work **very** well. Use HTML <em>tags</em>.</dd>\n",
    "</dl>"
   ]
  },
  {
   "cell_type": "markdown",
   "metadata": {},
   "source": [
    "![alt text](https://www.python.org/static/img/python-logo.png)"
   ]
  },
  {
   "cell_type": "code",
   "execution_count": null,
   "metadata": {},
   "outputs": [],
   "source": []
  }
 ],
 "metadata": {
  "kernelspec": {
   "display_name": "Python",
   "language": "python",
   "name": "conda-env-python-py"
  },
  "language_info": {
   "codemirror_mode": {
    "name": "ipython",
    "version": 3
   },
   "file_extension": ".py",
   "mimetype": "text/x-python",
   "name": "python",
   "nbconvert_exporter": "python",
   "pygments_lexer": "ipython3",
   "version": "3.7.12"
  }
 },
 "nbformat": 4,
 "nbformat_minor": 4
}
